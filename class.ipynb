{
 "cells": [
  {
   "cell_type": "code",
   "id": "initial_id",
   "metadata": {
    "collapsed": true,
    "ExecuteTime": {
     "end_time": "2025-10-19T20:45:10.333295Z",
     "start_time": "2025-10-19T20:45:10.328023Z"
    }
   },
   "source": [
    "class Bad:\n",
    "    def __init__(self,name,age):\n",
    "        print(id(self))\n",
    "        self.name = name #attributes\n",
    "        self.age = age    #attributes\n",
    "    def printname(self):  #methods\n",
    "        print(self.name)\n",
    "d=Bad(\"Badhri\",\"99\")\n",
    "d.printname()\n",
    "# self is act like a pointer to this class it specify which object is sending data"
   ],
   "outputs": [
    {
     "name": "stdout",
     "output_type": "stream",
     "text": [
      "2145736944256\n",
      "Badhri\n"
     ]
    }
   ],
   "execution_count": 24
  },
  {
   "metadata": {
    "ExecuteTime": {
     "end_time": "2025-10-19T20:45:12.188493Z",
     "start_time": "2025-10-19T20:45:12.184026Z"
    }
   },
   "cell_type": "code",
   "source": "print(id(d))\n",
   "id": "5c11beff92cd03d5",
   "outputs": [
    {
     "name": "stdout",
     "output_type": "stream",
     "text": [
      "2145736944256\n"
     ]
    }
   ],
   "execution_count": 25
  },
  {
   "metadata": {},
   "cell_type": "code",
   "outputs": [],
   "execution_count": null,
   "source": "# from the above program conclude that self and object have the same ID by this transfer things",
   "id": "cfcd51f170ecf150"
  },
  {
   "metadata": {
    "ExecuteTime": {
     "end_time": "2025-10-19T20:46:30.378529Z",
     "start_time": "2025-10-19T20:46:30.371938Z"
    }
   },
   "cell_type": "code",
   "source": [
    "class Bad:\n",
    "    def __init__(self):\n",
    "        print(id(self))\n",
    "        print(\"Hi I am Badhri\")\n",
    "\n",
    "\n",
    "d=Bad()\n",
    "'''from this code we get into that eventhough the object is empty the init fucntion is automatically run and give the output '''"
   ],
   "id": "495de7ea6f6d5d54",
   "outputs": [
    {
     "name": "stdout",
     "output_type": "stream",
     "text": [
      "2145738304272\n",
      "Hi I am Badhri\n"
     ]
    },
    {
     "data": {
      "text/plain": [
       "'from this code we get into that eventhough the object is empty the init fucntion is automatically run and give the output '"
      ]
     },
     "execution_count": 27,
     "metadata": {},
     "output_type": "execute_result"
    }
   ],
   "execution_count": 27
  },
  {
   "metadata": {
    "ExecuteTime": {
     "end_time": "2025-10-20T03:14:57.959983Z",
     "start_time": "2025-10-20T03:14:57.954393Z"
    }
   },
   "cell_type": "code",
   "source": [
    "\n",
    "class Bad:\n",
    "    def student(self,roll):\n",
    "        print(id(self))\n",
    "        print(\"Hi I am Badhri\")\n",
    "        print(\"My roll no. is\",roll)\n",
    "        print(f\"My roll no. is{roll} and my name is {id(self)}\")\n",
    "        print(\"My roll no. is{} and my name is {}\".format(roll,id(self)))\n",
    "        print(\"My roll no. is %d and my name is %d\"%(roll,id(self)))\n",
    "\n",
    "\n",
    "d=Bad()\n",
    "d.student(26)\n"
   ],
   "id": "717359264eba5d74",
   "outputs": [
    {
     "name": "stdout",
     "output_type": "stream",
     "text": [
      "1660872661744\n",
      "Hi I am Badhri\n",
      "My roll no. is 26\n",
      "My roll no. is26 and my name is 1660872661744\n",
      "My roll no. is26 and my name is 1660872661744\n",
      "My roll no. is 26 and my name is 1660872661744\n"
     ]
    }
   ],
   "execution_count": 9
  },
  {
   "metadata": {},
   "cell_type": "code",
   "outputs": [],
   "execution_count": null,
   "source": "",
   "id": "8e429a91c2eb2166"
  }
 ],
 "metadata": {
  "kernelspec": {
   "display_name": "Python 3",
   "language": "python",
   "name": "python3"
  },
  "language_info": {
   "codemirror_mode": {
    "name": "ipython",
    "version": 2
   },
   "file_extension": ".py",
   "mimetype": "text/x-python",
   "name": "python",
   "nbconvert_exporter": "python",
   "pygments_lexer": "ipython2",
   "version": "2.7.6"
  }
 },
 "nbformat": 4,
 "nbformat_minor": 5
}
