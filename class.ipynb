{
 "cells": [
  {
   "cell_type": "code",
   "execution_count": 24,
   "id": "initial_id",
   "metadata": {
    "ExecuteTime": {
     "end_time": "2025-10-19T20:45:10.333295Z",
     "start_time": "2025-10-19T20:45:10.328023Z"
    },
    "collapsed": true,
    "jupyter": {
     "outputs_hidden": true
    }
   },
   "outputs": [
    {
     "name": "stdout",
     "output_type": "stream",
     "text": [
      "2145736944256\n",
      "Badhri\n"
     ]
    }
   ],
   "source": [
    "class Bad:\n",
    "    def __init__(self,name,age):\n",
    "        print(id(self))\n",
    "        self.name = name #attributes\n",
    "        self.age = age    #attributes\n",
    "    def printname(self):  #methods\n",
    "        print(self.name)\n",
    "d=Bad(\"Badhri\",\"99\")\n",
    "d.printname()\n",
    "# self is act like a pointer to this class it specify which object is sending data"
   ]
  },
  {
   "cell_type": "code",
   "execution_count": 25,
   "id": "5c11beff92cd03d5",
   "metadata": {
    "ExecuteTime": {
     "end_time": "2025-10-19T20:45:12.188493Z",
     "start_time": "2025-10-19T20:45:12.184026Z"
    }
   },
   "outputs": [
    {
     "name": "stdout",
     "output_type": "stream",
     "text": [
      "2145736944256\n"
     ]
    }
   ],
   "source": [
    "print(id(d))\n"
   ]
  },
  {
   "cell_type": "code",
   "execution_count": null,
   "id": "cfcd51f170ecf150",
   "metadata": {},
   "outputs": [],
   "source": [
    "# from the above program conclude that self and object have the same ID by this transfer things"
   ]
  },
  {
   "cell_type": "code",
   "execution_count": 27,
   "id": "495de7ea6f6d5d54",
   "metadata": {
    "ExecuteTime": {
     "end_time": "2025-10-19T20:46:30.378529Z",
     "start_time": "2025-10-19T20:46:30.371938Z"
    }
   },
   "outputs": [
    {
     "name": "stdout",
     "output_type": "stream",
     "text": [
      "2145738304272\n",
      "Hi I am Badhri\n"
     ]
    },
    {
     "data": {
      "text/plain": [
       "'from this code we get into that eventhough the object is empty the init fucntion is automatically run and give the output '"
      ]
     },
     "execution_count": 27,
     "metadata": {},
     "output_type": "execute_result"
    }
   ],
   "source": [
    "class Bad:\n",
    "    def __init__(self):\n",
    "        print(id(self))\n",
    "        print(\"Hi I am Badhri\")\n",
    "\n",
    "\n",
    "d=Bad()\n",
    "'''from this code we get into that eventhough the object is empty the init fucntion is automatically run and give the output '''"
   ]
  },
  {
   "cell_type": "code",
   "execution_count": 9,
   "id": "717359264eba5d74",
   "metadata": {
    "ExecuteTime": {
     "end_time": "2025-10-20T03:14:57.959983Z",
     "start_time": "2025-10-20T03:14:57.954393Z"
    }
   },
   "outputs": [
    {
     "name": "stdout",
     "output_type": "stream",
     "text": [
      "1660872661744\n",
      "Hi I am Badhri\n",
      "My roll no. is 26\n",
      "My roll no. is26 and my name is 1660872661744\n",
      "My roll no. is26 and my name is 1660872661744\n",
      "My roll no. is 26 and my name is 1660872661744\n"
     ]
    }
   ],
   "source": [
    "\n",
    "class Bad:\n",
    "    def student(self,roll):\n",
    "        print(id(self))\n",
    "        print(\"Hi I am Badhri\")\n",
    "        print(\"My roll no. is\",roll)\n",
    "        print(f\"My roll no. is{roll} and my name is {id(self)}\")\n",
    "        print(\"My roll no. is{} and my name is {}\".format(roll,id(self)))\n",
    "        print(\"My roll no. is %d and my name is %d\"%(roll,id(self)))\n",
    "\n",
    "\n",
    "d=Bad()\n",
    "d.student(26)\n"
   ]
  },
  {
   "cell_type": "code",
   "execution_count": 15,
   "id": "8e429a91c2eb2166",
   "metadata": {
    "ExecuteTime": {
     "end_time": "2025-10-24T20:34:26.008953Z",
     "start_time": "2025-10-24T20:34:26.002248Z"
    }
   },
   "outputs": [
    {
     "name": "stdout",
     "output_type": "stream",
     "text": [
      "2011003038720\n",
      "Hi I am Badhri\n",
      "My roll no. is 7\n",
      "He plays football 7\n"
     ]
    }
   ],
   "source": [
    "class Bad:\n",
    "    def __init__(self,roll):\n",
    "        print(id(self))\n",
    "        print(\"Hi I am Badhri\")\n",
    "        print(\"My roll no. is\",roll)\n",
    "class sport(Bad):\n",
    "    def student (self, roll):\n",
    "        print(\"He plays football\",roll)\n",
    "\n",
    "\n",
    "\n",
    "d=sport(7)\n",
    "d.student(7)\n",
    "\n"
   ]
  },
  {
   "cell_type": "code",
   "execution_count": 21,
   "id": "a2a8515e-0142-4b71-89a6-db9e15d50177",
   "metadata": {},
   "outputs": [
    {
     "name": "stdout",
     "output_type": "stream",
     "text": [
      "2011002731792\n",
      "Hi I am Badhri\n",
      "My roll no. is 77\n",
      "66\n",
      "He plays football 66\n"
     ]
    }
   ],
   "source": [
    "class Bad:\n",
    "    def __init__(self,roll):\n",
    "        print(id(self))\n",
    "        print(\"Hi I am Badhri\")\n",
    "        print(\"My roll no. is\",roll)\n",
    "class sport():\n",
    "    def student (self, roll):\n",
    "        print(\"He plays football\",roll)\n",
    "class add(Bad,sport):\n",
    "    def __init__(self,roll):\n",
    "        print(roll)\n",
    "c=Bad(77) \n",
    "d=add(66)\n",
    "d.student(66)"
   ]
  },
  {
   "cell_type": "code",
   "execution_count": null,
   "id": "d2542fbb-acf8-4a24-9332-f7e71a750d46",
   "metadata": {},
   "outputs": [],
   "source": []
  }
 ],
 "metadata": {
  "kernelspec": {
   "display_name": "Python 3 (ipykernel)",
   "language": "python",
   "name": "python3"
  },
  "language_info": {
   "codemirror_mode": {
    "name": "ipython",
    "version": 3
   },
   "file_extension": ".py",
   "mimetype": "text/x-python",
   "name": "python",
   "nbconvert_exporter": "python",
   "pygments_lexer": "ipython3",
   "version": "3.12.3"
  }
 },
 "nbformat": 4,
 "nbformat_minor": 5
}
