{
 "cells": [
  {
   "cell_type": "code",
   "id": "initial_id",
   "metadata": {
    "collapsed": true,
    "ExecuteTime": {
     "end_time": "2025-10-19T20:07:31.729936Z",
     "start_time": "2025-10-19T20:07:31.723705Z"
    }
   },
   "source": [
    "class bad:\n",
    "    def __init__(self,name,age):\n",
    "        print(id(self))\n",
    "        self.name = name\n",
    "        self.age = age\n",
    "    def printname(self):\n",
    "        print(self.name)\n",
    "d=bad(\"Badhri\",\"99\")\n",
    "d.printname()\n",
    "# self is act like a pointer to this class it specify which object is sending data"
   ],
   "outputs": [
    {
     "name": "stdout",
     "output_type": "stream",
     "text": [
      "2145737345072\n",
      "Badhri\n"
     ]
    }
   ],
   "execution_count": 10
  },
  {
   "metadata": {
    "ExecuteTime": {
     "end_time": "2025-10-19T20:08:47.413421Z",
     "start_time": "2025-10-19T20:08:47.408834Z"
    }
   },
   "cell_type": "code",
   "source": "print(id(d))\n",
   "id": "5c11beff92cd03d5",
   "outputs": [
    {
     "name": "stdout",
     "output_type": "stream",
     "text": [
      "2145737345072\n"
     ]
    }
   ],
   "execution_count": 13
  },
  {
   "metadata": {},
   "cell_type": "code",
   "outputs": [],
   "execution_count": null,
   "source": "# from the above program conclude that self and object have the same ID by this transfer things",
   "id": "cfcd51f170ecf150"
  },
  {
   "metadata": {},
   "cell_type": "code",
   "outputs": [],
   "execution_count": null,
   "source": "",
   "id": "495de7ea6f6d5d54"
  }
 ],
 "metadata": {
  "kernelspec": {
   "display_name": "Python 3",
   "language": "python",
   "name": "python3"
  },
  "language_info": {
   "codemirror_mode": {
    "name": "ipython",
    "version": 2
   },
   "file_extension": ".py",
   "mimetype": "text/x-python",
   "name": "python",
   "nbconvert_exporter": "python",
   "pygments_lexer": "ipython2",
   "version": "2.7.6"
  }
 },
 "nbformat": 4,
 "nbformat_minor": 5
}
