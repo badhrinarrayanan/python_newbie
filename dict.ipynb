{
 "cells": [
  {
   "cell_type": "code",
   "execution_count": 1,
   "id": "initial_id",
   "metadata": {
    "jupyter": {
     "is_executing": true
    }
   },
   "outputs": [
    {
     "name": "stdout",
     "output_type": "stream",
     "text": [
      "dict_keys(['1', '2', '3'])\n",
      "dict_values([1, 2, 3])\n"
     ]
    }
   ],
   "source": [
    "d={'1':1,'2':2,'3':3}\n",
    "print(d.keys())\n",
    "print(d.values())\n"
   ]
  },
  {
   "cell_type": "code",
   "execution_count": 2,
   "id": "048751cb-eb57-441f-92f2-3ea3e1776a4f",
   "metadata": {
    "jupyter": {
     "is_executing": true
    }
   },
   "outputs": [],
   "source": [
    "d4=d.copy()"
   ]
  },
  {
   "cell_type": "code",
   "execution_count": 3,
   "id": "7ddcb85bcc58e1a",
   "metadata": {
    "jupyter": {
     "is_executing": true
    }
   },
   "outputs": [
    {
     "name": "stdout",
     "output_type": "stream",
     "text": [
      "dict_items([('1', 1), ('2', 2), ('3', 3), ('4', 4)])\n"
     ]
    }
   ],
   "source": [
    "d['4']=(4)\n",
    "print(d.items())"
   ]
  },
  {
   "cell_type": "code",
   "execution_count": 4,
   "id": "7a9366da-cb96-4456-9bd1-b5378c3cf219",
   "metadata": {
    "jupyter": {
     "is_executing": true
    }
   },
   "outputs": [
    {
     "name": "stdout",
     "output_type": "stream",
     "text": [
      "1\n",
      "2\n",
      "3\n",
      "4\n",
      "7\n"
     ]
    }
   ],
   "source": [
    "d1={'seven':'7'}\n",
    "d.update(d1)\n",
    "for i in d:\n",
    "    print(d[i])"
   ]
  },
  {
   "cell_type": "code",
   "execution_count": 5,
   "id": "df2e6006-7676-4974-857a-74134aaffd4b",
   "metadata": {
    "jupyter": {
     "is_executing": true
    }
   },
   "outputs": [
    {
     "name": "stdout",
     "output_type": "stream",
     "text": [
      "1\n",
      "2\n",
      "3\n",
      "4\n",
      "seven\n"
     ]
    }
   ],
   "source": [
    "d1={'seven':'7'}\n",
    "d.update(d1)\n",
    "for i in d:\n",
    "    print(i)"
   ]
  },
  {
   "cell_type": "code",
   "execution_count": null,
   "id": "41eae30a-38a2-4313-9501-7b510b3fa5a2",
   "metadata": {
    "jupyter": {
     "is_executing": true
    }
   },
   "outputs": [],
   "source": [
    "del d['1']\n",
    "for i in d:\n",
    "    print(d[i])"
   ]
  },
  {
   "cell_type": "code",
   "execution_count": null,
   "id": "996478c1-eb04-46db-8d04-d44819006571",
   "metadata": {},
   "outputs": [],
   "source": [
    "d.pop('4')\n",
    "for i in d:\n",
    "    print(d[i])"
   ]
  },
  {
   "cell_type": "code",
   "execution_count": 6,
   "id": "aaad1ff9-667b-48fb-b63a-66fd2a6c615b",
   "metadata": {},
   "outputs": [
    {
     "data": {
      "text/plain": [
       "set"
      ]
     },
     "execution_count": 6,
     "metadata": {},
     "output_type": "execute_result"
    }
   ],
   "source": [
    "s=set()\n",
    "type(s)\n"
   ]
  },
  {
   "cell_type": "code",
   "execution_count": 7,
   "id": "8cd37015-de85-4915-a858-618acd7f5a6e",
   "metadata": {},
   "outputs": [
    {
     "name": "stdout",
     "output_type": "stream",
     "text": [
      "{0, 1, 7, 9, 78}\n"
     ]
    }
   ],
   "source": [
    "s={1,1,1,0,7,78,9,0}\n",
    "print(s)"
   ]
  },
  {
   "cell_type": "code",
   "execution_count": 8,
   "id": "b26d1251-8d1d-4065-b78d-485464ba099e",
   "metadata": {},
   "outputs": [
    {
     "data": {
      "text/plain": [
       "{0, 1, 7, 9, 10, 20, 30, 40, 50, 60, 78}"
      ]
     },
     "execution_count": 8,
     "metadata": {},
     "output_type": "execute_result"
    }
   ],
   "source": [
    "s.update([10,20,30,40,50,60])\n",
    "s"
   ]
  },
  {
   "cell_type": "code",
   "execution_count": 9,
   "id": "50c9eaa9-8e4c-40e6-ba4e-9679eab015eb",
   "metadata": {},
   "outputs": [
    {
     "data": {
      "text/plain": [
       "{7, 9, 10, 20, 30, 40, 50, 60, 78}"
      ]
     },
     "execution_count": 9,
     "metadata": {},
     "output_type": "execute_result"
    }
   ],
   "source": [
    "s.pop()\n",
    "s.pop()\n",
    "s"
   ]
  },
  {
   "cell_type": "code",
   "execution_count": 10,
   "id": "2897635a-55b4-4771-b1b0-0e2dfd856193",
   "metadata": {},
   "outputs": [
    {
     "data": {
      "text/plain": [
       "{7, 9, 10, 20, 30, 40, 50, 60}"
      ]
     },
     "execution_count": 10,
     "metadata": {},
     "output_type": "execute_result"
    }
   ],
   "source": [
    "s.remove(78)\n",
    "s"
   ]
  },
  {
   "cell_type": "code",
   "execution_count": null,
   "id": "b00f85bf-bfb9-47f4-8503-2d702ca09ec9",
   "metadata": {},
   "outputs": [],
   "source": []
  },
  {
   "cell_type": "code",
   "execution_count": null,
   "id": "254808f6-701d-4413-b2ce-b05dbf75d2cc",
   "metadata": {},
   "outputs": [],
   "source": []
  }
 ],
 "metadata": {
  "kernelspec": {
   "display_name": "Python 3 (ipykernel)",
   "language": "python",
   "name": "python3"
  },
  "language_info": {
   "codemirror_mode": {
    "name": "ipython",
    "version": 3
   },
   "file_extension": ".py",
   "mimetype": "text/x-python",
   "name": "python",
   "nbconvert_exporter": "python",
   "pygments_lexer": "ipython3",
   "version": "3.12.3"
  }
 },
 "nbformat": 4,
 "nbformat_minor": 5
}
